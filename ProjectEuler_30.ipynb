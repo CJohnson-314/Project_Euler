{
 "cells": [
  {
   "cell_type": "markdown",
   "metadata": {},
   "source": [
    "### Project Euler 30\n",
    "---\n",
    "# Digit Fifth Powers\n",
    "\n",
    "* [Link](https://projecteuler.net/problem=30)\n",
    "* Find the sum of all numbers that can be written as the sum of the 5th powers of their digits"
   ]
  },
  {
   "cell_type": "code",
   "execution_count": 1,
   "metadata": {},
   "outputs": [],
   "source": [
    "def sum_of_fifth_powers(n: int) -> bin:\n",
    "    if sum([int(x)**5 for x in str(n)]) == n:\n",
    "        return True\n",
    "    else: \n",
    "        return False"
   ]
  },
  {
   "cell_type": "code",
   "execution_count": 2,
   "metadata": {},
   "outputs": [
    {
     "data": {
      "text/plain": [
       "443839"
      ]
     },
     "execution_count": 2,
     "metadata": {},
     "output_type": "execute_result"
    }
   ],
   "source": [
    "# The largest the sum of the digits^5 can be for an 'n' digit number is n(9^5)\n",
    "# 6(9^5) = 354294\n",
    "# 7(9^5) = 413343\n",
    "# so no numbers above a million will work\n",
    "# and we just need to check 6 digit numbers up to 354294\n",
    "digit_fifth_powers = []\n",
    "for n in range(2, 2354295):\n",
    "    if sum_of_fifth_powers(n):\n",
    "        digit_fifth_powers.append(n)\n",
    "sum(digit_fifth_powers)\n",
    "# There's no doubt that this is a horrifically inefficient way to solve the problem,\n",
    "# but 4.2 seconds is a time I can live with"
   ]
  }
 ],
 "metadata": {
  "kernelspec": {
   "display_name": "Python 3",
   "language": "python",
   "name": "python3"
  },
  "language_info": {
   "codemirror_mode": {
    "name": "ipython",
    "version": 3
   },
   "file_extension": ".py",
   "mimetype": "text/x-python",
   "name": "python",
   "nbconvert_exporter": "python",
   "pygments_lexer": "ipython3",
   "version": "3.9.6"
  }
 },
 "nbformat": 4,
 "nbformat_minor": 2
}
