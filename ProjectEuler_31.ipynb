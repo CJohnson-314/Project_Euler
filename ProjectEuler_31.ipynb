{
 "cells": [
  {
   "cell_type": "markdown",
   "id": "f3d900e4",
   "metadata": {},
   "source": [
    "### Project Euler 31\n",
    "---\n",
    "# Coin Sums\n",
    "\n",
    "* [Link](https://projecteuler.net/problem=31)\n",
    "* How many ways are there to make £2 using any number/denomination of coins?"
   ]
  },
  {
   "cell_type": "code",
   "execution_count": null,
   "id": "691d6c8e",
   "metadata": {},
   "outputs": [
    {
     "name": "stdout",
     "output_type": "stream",
     "text": [
      "10\n",
      "20\n",
      "30\n",
      "40\n",
      "50\n",
      "60\n",
      "70\n",
      "80\n",
      "90\n",
      "100\n",
      "110\n",
      "120\n",
      "130\n",
      "140\n",
      "150\n",
      "160\n",
      "170\n",
      "180\n",
      "190\n",
      "200\n"
     ]
    },
    {
     "data": {
      "text/plain": [
       "73682"
      ]
     },
     "execution_count": 41,
     "metadata": {},
     "output_type": "execute_result"
    }
   ],
   "source": [
    "# Going to try and take the approach I took in problem 15\n",
    "# We just build up slowly to £2, working how many ways there are to make each number, and then building from there for the next number\n",
    "# That way we don't need to use recursion to get to the answer- it's just every way to make 199 + 1p\n",
    "coins = [1, 2, 5, 10, 20, 50, 100, 200]\n",
    "goal = 200\n",
    "n = 2\n",
    "options_dict = {1: [[1]]}\n",
    "while n <= goal:\n",
    "    new_combos = []\n",
    "    for coin in coins:\n",
    "        # For each coin, check if we should actually be using the coin\n",
    "        # ie it's completely pointless looking at the £1 when we're trying to make 50p\n",
    "        if n - coin >= 0:\n",
    "            # Look for the all the ways to make n - coin, then we can build off that\n",
    "            if n - coin in options_dict:\n",
    "                for combo in options_dict[n - coin]:\n",
    "                    if any(existing_coin < coin for existing_coin in combo):\n",
    "                        continue\n",
    "                    new_combo = combo + [coin]\n",
    "                    if sorted(new_combo) not in new_combos:\n",
    "                        new_combos.append(sorted(new_combo))\n",
    "            elif n in coins:\n",
    "                new_combos.append([n])\n",
    "    options_dict[n] = new_combos\n",
    "    n += 1\n",
    "    if n % 10 == 0:\n",
    "        print(n)\n",
    "len(options_dict[200])\n",
    "# 6 minutes to run. Not the most efficient solution in the world, but it got there"
   ]
  }
 ],
 "metadata": {
  "kernelspec": {
   "display_name": "Python 3",
   "language": "python",
   "name": "python3"
  },
  "language_info": {
   "codemirror_mode": {
    "name": "ipython",
    "version": 3
   },
   "file_extension": ".py",
   "mimetype": "text/x-python",
   "name": "python",
   "nbconvert_exporter": "python",
   "pygments_lexer": "ipython3",
   "version": "3.9.6"
  }
 },
 "nbformat": 4,
 "nbformat_minor": 5
}
