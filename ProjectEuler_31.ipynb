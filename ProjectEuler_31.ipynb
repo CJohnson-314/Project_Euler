{
 "cells": [
  {
   "cell_type": "markdown",
   "id": "f3d900e4",
   "metadata": {},
   "source": [
    "### Project Euler 31\n",
    "---\n",
    "# Coin Sums\n",
    "\n",
    "* [Link](https://projecteuler.net/problem=31)\n",
    "* How many ways are there to make £2 using any number/denomination of coins?"
   ]
  },
  {
   "cell_type": "code",
   "execution_count": null,
   "id": "691d6c8e",
   "metadata": {},
   "outputs": [],
   "source": [
    "# Going to try and take the approach I took in problem 15\n",
    "# We just build up slowly to £2, working how many ways there are to make each number, and then building from there for the next number\n",
    "coins = [1, 2, 5, 10, 20, 50, 100, 200]\n",
    "goal = 5\n",
    "n = 2\n",
    "options_dict = {1: ([1])}\n",
    "while n <= goal:\n",
    "    ways_to_make_n = ()\n",
    "    for coin in coins:\n",
    "        if n - coin >= 0:\n",
    "            if n - coin in options_dict:\n",
    "                possible_new_combos = [combo.append(coin) for combo in options_dict]\n",
    "            else:\n",
    "\n"
   ]
  },
  {
   "cell_type": "code",
   "execution_count": null,
   "id": "d07172cd",
   "metadata": {},
   "outputs": [],
   "source": []
  }
 ],
 "metadata": {
  "kernelspec": {
   "display_name": "Python 3",
   "language": "python",
   "name": "python3"
  },
  "language_info": {
   "name": "python",
   "version": "3.9.6"
  }
 },
 "nbformat": 4,
 "nbformat_minor": 5
}
