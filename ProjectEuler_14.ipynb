{
 "cells": [
  {
   "cell_type": "code",
   "execution_count": 1,
   "id": "ce93d394",
   "metadata": {},
   "outputs": [],
   "source": [
    "# https://projecteuler.net/problem=14"
   ]
  },
  {
   "cell_type": "code",
   "execution_count": 2,
   "id": "ed23ce0a",
   "metadata": {},
   "outputs": [],
   "source": [
    "# what number n<10^6 produces the longest collatz chain?"
   ]
  },
  {
   "cell_type": "code",
   "execution_count": 3,
   "id": "e8508118",
   "metadata": {},
   "outputs": [],
   "source": [
    "def collatz(n: int) -> int:\n",
    "    if n % 2 == 0:\n",
    "        return n/2\n",
    "    else:\n",
    "        return (3*n) + 1"
   ]
  },
  {
   "cell_type": "code",
   "execution_count": 4,
   "id": "2d76a00c",
   "metadata": {},
   "outputs": [],
   "source": [
    "def longest_under_n(n: int):\n",
    "    collatz_chains = {1:1} # start with base case\n",
    "    x = 2\n",
    "    while x < n: # for every x < n:\n",
    "        length = 0\n",
    "        x1 = x\n",
    "        while x1 not in collatz_chains: # if x isn't in collatz_chains, apply function, add to counter, add 1\n",
    "            x1 = collatz(x1)\n",
    "            length += 1\n",
    "        collatz_chains.update({x: length + collatz_chains[x1]})\n",
    "        x += 1\n",
    "    max_key = max(collatz_chains, key=collatz_chains.get)  # get the key of the maximum value\n",
    "    max_value = collatz_chains[max_key] \n",
    "    return max_key, max_value\n",
    "    "
   ]
  },
  {
   "cell_type": "code",
   "execution_count": 5,
   "id": "080f3678",
   "metadata": {},
   "outputs": [
    {
     "data": {
      "text/plain": [
       "(837799, 525)"
      ]
     },
     "execution_count": 5,
     "metadata": {},
     "output_type": "execute_result"
    }
   ],
   "source": [
    "longest_under_n(1000000)"
   ]
  }
 ],
 "metadata": {
  "kernelspec": {
   "display_name": "Python 3 (ipykernel)",
   "language": "python",
   "name": "python3"
  },
  "language_info": {
   "codemirror_mode": {
    "name": "ipython",
    "version": 3
   },
   "file_extension": ".py",
   "mimetype": "text/x-python",
   "name": "python",
   "nbconvert_exporter": "python",
   "pygments_lexer": "ipython3",
   "version": "3.9.7"
  }
 },
 "nbformat": 4,
 "nbformat_minor": 5
}
