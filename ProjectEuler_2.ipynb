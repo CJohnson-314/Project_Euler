{
 "cells": [
  {
   "cell_type": "code",
   "execution_count": null,
   "id": "74f32e1e",
   "metadata": {},
   "outputs": [],
   "source": [
    "# https://projecteuler.net/problem=2\n",
    "# Starting with 1, 2, 3, 5...\n",
    "# find the sum of the even-valued terms < 4,000,000"
   ]
  },
  {
   "cell_type": "code",
   "execution_count": 7,
   "id": "1f299e7c",
   "metadata": {},
   "outputs": [],
   "source": [
    "fib = {1:1, 2:2}\n",
    "n = 3\n",
    "while fib[n-1] + fib[n-2] <= 4000000:\n",
    "    fib.update({n : fib[n-1] + fib[n-2]})\n",
    "    n += 1"
   ]
  },
  {
   "cell_type": "code",
   "execution_count": 10,
   "id": "633a41c4",
   "metadata": {},
   "outputs": [],
   "source": [
    "sum = 0\n",
    "for key in fib:\n",
    "    if key % 2 == 0:\n",
    "        sum = sum + fib[key]"
   ]
  },
  {
   "cell_type": "code",
   "execution_count": 11,
   "id": "ad508974",
   "metadata": {},
   "outputs": [
    {
     "data": {
      "text/plain": [
       "5702886"
      ]
     },
     "execution_count": 11,
     "metadata": {},
     "output_type": "execute_result"
    }
   ],
   "source": [
    "sum"
   ]
  },
  {
   "cell_type": "code",
   "execution_count": null,
   "id": "7870c185",
   "metadata": {},
   "outputs": [],
   "source": []
  }
 ],
 "metadata": {
  "kernelspec": {
   "display_name": "Python 3 (ipykernel)",
   "language": "python",
   "name": "python3"
  },
  "language_info": {
   "codemirror_mode": {
    "name": "ipython",
    "version": 3
   },
   "file_extension": ".py",
   "mimetype": "text/x-python",
   "name": "python",
   "nbconvert_exporter": "python",
   "pygments_lexer": "ipython3",
   "version": "3.9.7"
  }
 },
 "nbformat": 4,
 "nbformat_minor": 5
}
