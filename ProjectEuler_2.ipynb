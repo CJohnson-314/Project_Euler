{
 "cells": [
  {
   "cell_type": "code",
   "execution_count": 1,
   "id": "bc33b463",
   "metadata": {},
   "outputs": [],
   "source": [
    "# https://projecteuler.net/problem=2\n",
    "# Starting with 1, 2, 3, 5...\n",
    "# find the sum of the even-valued terms < 4,000,000\n",
    "# slightly unsure of the wording...\n",
    "# does even valued terms mean terms that are even, or the 2nd, 4th, 6th etc terms of the sequence?\n",
    "# I will find both solutions"
   ]
  },
  {
   "cell_type": "code",
   "execution_count": 2,
   "id": "38c3b0cb",
   "metadata": {},
   "outputs": [],
   "source": [
    "# fibonacci sequence <= 4000000:\n",
    "fib = {1:1, 2:2}\n",
    "n = 3\n",
    "while fib[n-1] + fib[n-2] <= 4000000:\n",
    "    fib.update({n : fib[n-1] + fib[n-2]})\n",
    "    n += 1"
   ]
  },
  {
   "cell_type": "code",
   "execution_count": 3,
   "id": "74858689",
   "metadata": {},
   "outputs": [
    {
     "name": "stdout",
     "output_type": "stream",
     "text": [
      "2\n",
      "5\n",
      "13\n",
      "34\n",
      "89\n",
      "233\n",
      "610\n",
      "1597\n",
      "4181\n",
      "10946\n",
      "28657\n",
      "75025\n",
      "196418\n",
      "514229\n",
      "1346269\n",
      "3524578\n"
     ]
    }
   ],
   "source": [
    "# sum of even steps of the sequence:\n",
    "sum_steps = 0\n",
    "for key in fib:\n",
    "    if key % 2 == 0:\n",
    "        print(fib[key])\n",
    "        sum_steps = sum_steps + fib[key]"
   ]
  },
  {
   "cell_type": "code",
   "execution_count": 4,
   "id": "a78f02af",
   "metadata": {},
   "outputs": [
    {
     "data": {
      "text/plain": [
       "5702886"
      ]
     },
     "execution_count": 4,
     "metadata": {},
     "output_type": "execute_result"
    }
   ],
   "source": [
    "sum_steps"
   ]
  },
  {
   "cell_type": "code",
   "execution_count": 5,
   "id": "21b90329",
   "metadata": {},
   "outputs": [
    {
     "name": "stdout",
     "output_type": "stream",
     "text": [
      "2\n",
      "8\n",
      "34\n",
      "144\n",
      "610\n",
      "2584\n",
      "10946\n",
      "46368\n",
      "196418\n",
      "832040\n",
      "3524578\n"
     ]
    }
   ],
   "source": [
    "# sum even terms of the sequence:\n",
    "sum_terms = 0\n",
    "for value in fib:\n",
    "    if fib[value] % 2 == 0:\n",
    "        print(fib[value])\n",
    "        sum_terms = sum_terms + fib[value]"
   ]
  },
  {
   "cell_type": "code",
   "execution_count": 6,
   "id": "76aac8d1",
   "metadata": {},
   "outputs": [
    {
     "data": {
      "text/plain": [
       "4613732"
      ]
     },
     "execution_count": 6,
     "metadata": {},
     "output_type": "execute_result"
    }
   ],
   "source": [
    "sum_terms"
   ]
  }
 ],
 "metadata": {
  "kernelspec": {
   "display_name": "Python 3 (ipykernel)",
   "language": "python",
   "name": "python3"
  },
  "language_info": {
   "codemirror_mode": {
    "name": "ipython",
    "version": 3
   },
   "file_extension": ".py",
   "mimetype": "text/x-python",
   "name": "python",
   "nbconvert_exporter": "python",
   "pygments_lexer": "ipython3",
   "version": "3.9.7"
  }
 },
 "nbformat": 4,
 "nbformat_minor": 5
}
