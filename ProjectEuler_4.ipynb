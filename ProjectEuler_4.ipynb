{
 "cells": [
  {
   "cell_type": "code",
   "execution_count": 1,
   "id": "35cd4b0a",
   "metadata": {},
   "outputs": [],
   "source": [
    "# Find the largest palindromic number made from the product of two 3 digit number"
   ]
  },
  {
   "cell_type": "code",
   "execution_count": 2,
   "id": "cb2ebb06",
   "metadata": {},
   "outputs": [
    {
     "name": "stdout",
     "output_type": "stream",
     "text": [
      "819918\n",
      "886688\n",
      "888888\n",
      "824428\n",
      "861168\n",
      "906609\n"
     ]
    }
   ],
   "source": [
    "# just assume it's gonna a product of 900+ * 900+\n",
    "# if not we can always increase the range\n",
    "large_products = set()\n",
    "for x in range(900, 1000):\n",
    "    for y in range(900, 1000):\n",
    "        large_products.add(x * y)\n",
    "        \n",
    "for prod in large_products:\n",
    "    str_prod = str(prod)\n",
    "    if str_prod[0] == str_prod[5] and str_prod[1] == str_prod[4] and str_prod[2] == str_prod[3]:\n",
    "        print(prod)"
   ]
  },
  {
   "cell_type": "code",
   "execution_count": 3,
   "id": "9802b9f8",
   "metadata": {},
   "outputs": [],
   "source": [
    "# largest palendrome = 906609"
   ]
  }
 ],
 "metadata": {
  "kernelspec": {
   "display_name": "Python 3 (ipykernel)",
   "language": "python",
   "name": "python3"
  },
  "language_info": {
   "codemirror_mode": {
    "name": "ipython",
    "version": 3
   },
   "file_extension": ".py",
   "mimetype": "text/x-python",
   "name": "python",
   "nbconvert_exporter": "python",
   "pygments_lexer": "ipython3",
   "version": "3.9.7"
  }
 },
 "nbformat": 4,
 "nbformat_minor": 5
}
