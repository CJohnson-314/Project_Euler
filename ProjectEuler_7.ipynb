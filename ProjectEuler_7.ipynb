{
 "cells": [
  {
   "cell_type": "code",
   "execution_count": 1,
   "id": "98e7b816",
   "metadata": {},
   "outputs": [],
   "source": [
    "# What is the 10,001st prime number?"
   ]
  },
  {
   "cell_type": "code",
   "execution_count": 2,
   "id": "af3522e5",
   "metadata": {},
   "outputs": [],
   "source": [
    "# might be a better way to do this...\n",
    "# just gonna iterate upwards"
   ]
  },
  {
   "cell_type": "code",
   "execution_count": 3,
   "id": "3d1eddcf",
   "metadata": {},
   "outputs": [],
   "source": [
    "primes = []\n",
    "n = 2\n",
    "while len(primes) <= 10000:\n",
    "    if all( n % prime != 0 for prime in primes):\n",
    "        primes.append(n)\n",
    "    n += 1"
   ]
  },
  {
   "cell_type": "code",
   "execution_count": 4,
   "id": "86777ff8",
   "metadata": {},
   "outputs": [
    {
     "data": {
      "text/plain": [
       "10001"
      ]
     },
     "execution_count": 4,
     "metadata": {},
     "output_type": "execute_result"
    }
   ],
   "source": [
    "len(primes)"
   ]
  },
  {
   "cell_type": "code",
   "execution_count": 5,
   "id": "46624ca5",
   "metadata": {},
   "outputs": [
    {
     "data": {
      "text/plain": [
       "104743"
      ]
     },
     "execution_count": 5,
     "metadata": {},
     "output_type": "execute_result"
    }
   ],
   "source": [
    "primes[-1]"
   ]
  }
 ],
 "metadata": {
  "kernelspec": {
   "display_name": "Python 3 (ipykernel)",
   "language": "python",
   "name": "python3"
  },
  "language_info": {
   "codemirror_mode": {
    "name": "ipython",
    "version": 3
   },
   "file_extension": ".py",
   "mimetype": "text/x-python",
   "name": "python",
   "nbconvert_exporter": "python",
   "pygments_lexer": "ipython3",
   "version": "3.9.7"
  }
 },
 "nbformat": 4,
 "nbformat_minor": 5
}
