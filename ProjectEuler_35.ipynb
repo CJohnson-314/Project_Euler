{
 "cells": [
  {
   "cell_type": "markdown",
   "metadata": {},
   "source": [
    "### Project Euler 35\n",
    "---\n",
    "## Circular Primes\n",
    "\n",
    "* [Link](https://projecteuler.net/problem=35)\n",
    "* A number is considered a _circular prime_ if all rotations of its digits are prime.\n",
    "* e.g. $197$ is a circular prime as $197, \\: 971, \\: \\& \\: 719$ are all prime\n",
    "* How many numbers under a million are circular primes?"
   ]
  },
  {
   "cell_type": "code",
   "execution_count": 1,
   "metadata": {},
   "outputs": [],
   "source": [
    "def is_prime(n: int) -> bool:\n",
    "    for m in range(2, int(n**0.5)+1):\n",
    "        if n % m == 0:\n",
    "            return False\n",
    "    return True"
   ]
  },
  {
   "cell_type": "code",
   "execution_count": 2,
   "metadata": {},
   "outputs": [],
   "source": [
    "primes = []\n",
    "for n in range (2, 1000000):\n",
    "    if is_prime(n):\n",
    "        primes.append(n)"
   ]
  },
  {
   "cell_type": "code",
   "execution_count": 3,
   "metadata": {},
   "outputs": [],
   "source": [
    "circular_primes = []\n",
    "for prime in primes:\n",
    "    rotations = []\n",
    "    for i in range(len(str(prime))):\n",
    "        rotations.append(int(str(prime)[i:] + str(prime)[:i]))\n",
    "    if all(is_prime(x) == True for x in rotations):\n",
    "        circular_primes.append(prime)"
   ]
  },
  {
   "cell_type": "code",
   "execution_count": 4,
   "metadata": {},
   "outputs": [
    {
     "data": {
      "text/plain": [
       "55"
      ]
     },
     "execution_count": 4,
     "metadata": {},
     "output_type": "execute_result"
    }
   ],
   "source": [
    "len(circular_primes)"
   ]
  }
 ],
 "metadata": {
  "kernelspec": {
   "display_name": "Python 3",
   "language": "python",
   "name": "python3"
  },
  "language_info": {
   "codemirror_mode": {
    "name": "ipython",
    "version": 3
   },
   "file_extension": ".py",
   "mimetype": "text/x-python",
   "name": "python",
   "nbconvert_exporter": "python",
   "pygments_lexer": "ipython3",
   "version": "3.9.6"
  }
 },
 "nbformat": 4,
 "nbformat_minor": 2
}
