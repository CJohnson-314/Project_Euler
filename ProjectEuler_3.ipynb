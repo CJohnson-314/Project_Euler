{
 "cells": [
  {
   "cell_type": "code",
   "execution_count": 1,
   "id": "77bb1bb5",
   "metadata": {},
   "outputs": [],
   "source": [
    "# https://projecteuler.net/problem=3\n",
    "# Given: the prime factors of 13195 are 5, 7, 13, 29\n",
    "# What is the largest prime factor p of n = 600851475143\n",
    "# could obviously just crunch the prime factors out... sqrt is 775146 so totally doable\n",
    "# lets try and be slightly more subtle...\n",
    "# Fermat's factorisation method"
   ]
  },
  {
   "cell_type": "code",
   "execution_count": 2,
   "id": "dd5a53f1",
   "metadata": {},
   "outputs": [],
   "source": [
    "import math"
   ]
  },
  {
   "cell_type": "code",
   "execution_count": 3,
   "id": "22ee1407",
   "metadata": {},
   "outputs": [
    {
     "data": {
      "text/plain": [
       "775146.0992245268"
      ]
     },
     "execution_count": 3,
     "metadata": {},
     "output_type": "execute_result"
    }
   ],
   "source": [
    "math.sqrt(600851475143)"
   ]
  },
  {
   "cell_type": "code",
   "execution_count": 4,
   "id": "eb75d666",
   "metadata": {},
   "outputs": [],
   "source": [
    "# starting from x = 775147 and working up, calculate x^2 - n = m\n",
    "# if m is a perfect square i.e. m = a^2, then n = a^2 - x^2 = (x + a)(x - a) and we have factors"
   ]
  },
  {
   "cell_type": "code",
   "execution_count": 5,
   "id": "96f3190d",
   "metadata": {},
   "outputs": [
    {
     "name": "stdout",
     "output_type": "stream",
     "text": [
      "860508 373661.0\n"
     ]
    }
   ],
   "source": [
    "x = 775147\n",
    "n = 600851475143\n",
    "m = x**2 - n\n",
    "\n",
    "while math.sqrt(m) % 1 != 0:\n",
    "    x += 1\n",
    "    m = x**2 - n\n",
    "    \n",
    "print(x, math.sqrt(m))"
   ]
  },
  {
   "cell_type": "code",
   "execution_count": 6,
   "id": "8ca1fdb4",
   "metadata": {},
   "outputs": [
    {
     "name": "stdout",
     "output_type": "stream",
     "text": [
      "486847 1234169\n"
     ]
    }
   ],
   "source": [
    "# now rearrange\n",
    "# 860508^2 - 373661^2 = 600851475143\n",
    "# 600851475143 = (860508 - 373661)(860508 + 373661)\n",
    "print(860508 - 373661, 860508 + 373661 )"
   ]
  },
  {
   "cell_type": "code",
   "execution_count": 7,
   "id": "65f8aba2",
   "metadata": {},
   "outputs": [
    {
     "data": {
      "text/plain": [
       "486847.0"
      ]
     },
     "execution_count": 7,
     "metadata": {},
     "output_type": "execute_result"
    }
   ],
   "source": [
    "600851475143 / 1234169"
   ]
  },
  {
   "cell_type": "code",
   "execution_count": 8,
   "id": "96e6fc03",
   "metadata": {},
   "outputs": [],
   "source": [
    "# We have a couple of factors!\n",
    "# Now to try and build a recursive system"
   ]
  },
  {
   "cell_type": "code",
   "execution_count": 9,
   "id": "d56fe767",
   "metadata": {},
   "outputs": [
    {
     "name": "stdout",
     "output_type": "stream",
     "text": [
      "[600851475143, 486847.0, 1234169.0, 71.0, 6857.0, 839.0, 1471.0] [71.0, 6857.0, 839.0, 1471.0]\n"
     ]
    }
   ],
   "source": [
    "factors = [600851475143] # start with the number itself as a factor\n",
    "prime_factors = []\n",
    "\n",
    "# use previous method to find factors\n",
    "# if method can't find any factos, add to primes\n",
    "# loop until prime_factors multiplies to n\n",
    "\n",
    "while math.prod(prime_factors) != factors[0]:\n",
    "    for factor in factors:\n",
    "        start = math.ceil(math.sqrt(factor))\n",
    "        m = start**2 - factor\n",
    "        while math.sqrt(m) % 1 != 0:\n",
    "            start += 1\n",
    "            m = start**2 - factor\n",
    "        small_factor = start - math.sqrt(m)\n",
    "        big_factor = start + math.sqrt(m)\n",
    "        if big_factor == factor: # for primes e.g. if factor = 7, big_factor = 7, append to primes\n",
    "            prime_factors.append(big_factor)\n",
    "        else:\n",
    "            factors.append(small_factor)\n",
    "            factors.append(big_factor)\n",
    "            \n",
    "print(factors, prime_factors)"
   ]
  },
  {
   "cell_type": "code",
   "execution_count": 10,
   "id": "1db5108e",
   "metadata": {},
   "outputs": [],
   "source": [
    "# lovely stuff, that's the lot. A quick google search confirms all those are prime\n",
    "# so the largest prime factor of 600851475143 is 6857\n",
    "# NB AFTER TESTING, FLOAT PRECISION EVENTUALLY TAPS OUT AND BREAKS THE SCRIPT.\n",
    "# WORKS JUST FINE FOR UP TO ~15 DIGITS THOUGH"
   ]
  }
 ],
 "metadata": {
  "kernelspec": {
   "display_name": "Python 3 (ipykernel)",
   "language": "python",
   "name": "python3"
  },
  "language_info": {
   "codemirror_mode": {
    "name": "ipython",
    "version": 3
   },
   "file_extension": ".py",
   "mimetype": "text/x-python",
   "name": "python",
   "nbconvert_exporter": "python",
   "pygments_lexer": "ipython3",
   "version": "3.9.7"
  }
 },
 "nbformat": 4,
 "nbformat_minor": 5
}
