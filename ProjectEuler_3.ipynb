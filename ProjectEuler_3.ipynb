{
 "cells": [
  {
   "cell_type": "code",
   "execution_count": null,
   "id": "77bb1bb5",
   "metadata": {},
   "outputs": [],
   "source": [
    "# https://projecteuler.net/problem=3\n",
    "# Given: the prime factors of 13195 are 5, 7, 13, 29\n",
    "# What is the largest prime factor p of n = 600851475143\n",
    "# could obviously just crunch the prime factors out... sqrt is 775146 so totally doable\n",
    "# lets try and be slightly more subtle...\n",
    "# Fermat's factorisation method"
   ]
  },
  {
   "cell_type": "code",
   "execution_count": 8,
   "id": "dd5a53f1",
   "metadata": {},
   "outputs": [],
   "source": [
    "import math"
   ]
  },
  {
   "cell_type": "code",
   "execution_count": 9,
   "id": "22ee1407",
   "metadata": {},
   "outputs": [
    {
     "data": {
      "text/plain": [
       "775146.0992245268"
      ]
     },
     "execution_count": 9,
     "metadata": {},
     "output_type": "execute_result"
    }
   ],
   "source": [
    "math.sqrt(600851475143)"
   ]
  },
  {
   "cell_type": "code",
   "execution_count": 2,
   "id": "eb75d666",
   "metadata": {},
   "outputs": [],
   "source": [
    "# starting from x = 775147 and working up, calculate x^2 - n = m\n",
    "# if m is a perfect square i.e. m = a^2, then n = a^2 - x^2 = (x + a)(x - a) and we have factors"
   ]
  },
  {
   "cell_type": "code",
   "execution_count": 20,
   "id": "4ff80d49",
   "metadata": {},
   "outputs": [
    {
     "name": "stdout",
     "output_type": "stream",
     "text": [
      "860508 373661.0\n"
     ]
    }
   ],
   "source": [
    "x = 775147\n",
    "n = 600851475143\n",
    "m = x**2 - n\n",
    "\n",
    "while math.sqrt(m) % 1 != 0:\n",
    "    x += 1\n",
    "    m = x**2 - n\n",
    "    \n",
    "print(x, math.sqrt(m))"
   ]
  },
  {
   "cell_type": "code",
   "execution_count": 21,
   "id": "10363088",
   "metadata": {},
   "outputs": [
    {
     "name": "stdout",
     "output_type": "stream",
     "text": [
      "486847 1234169\n"
     ]
    }
   ],
   "source": [
    "# now rearrange\n",
    "# 860508^2 - 373661^2 = 600851475143\n",
    "# 600851475143 = (860508 - 373661)(860508 + 373661)\n",
    "print(860508 - 373661, 860508 + 373661 )"
   ]
  },
  {
   "cell_type": "code",
   "execution_count": 22,
   "id": "1b07f326",
   "metadata": {},
   "outputs": [
    {
     "data": {
      "text/plain": [
       "486847.0"
      ]
     },
     "execution_count": 22,
     "metadata": {},
     "output_type": "execute_result"
    }
   ],
   "source": [
    "600851475143 / 1234169"
   ]
  },
  {
   "cell_type": "code",
   "execution_count": null,
   "id": "e83c62a5",
   "metadata": {},
   "outputs": [],
   "source": [
    "# We have a couple of factors!\n",
    "# Now to try and build a recursive system"
   ]
  },
  {
   "cell_type": "code",
   "execution_count": 34,
   "id": "29ffe5f4",
   "metadata": {},
   "outputs": [
    {
     "name": "stdout",
     "output_type": "stream",
     "text": [
      "[600851475143, 486847.0, 1234169.0, 71.0, 6857.0, 839.0, 1471.0] [71.0, 6857.0, 839.0, 1471.0]\n"
     ]
    }
   ],
   "source": [
    "#base_primes = [2, 3, 5, 7, 11, 13, 17, 19, 23, 29, 31, 37, 41, 43, 47] # work with the primes under 50\n",
    "factors = [600851475143] # start with the number itself as a factor\n",
    "prime_factors = [] # feels horrible putting 1 in here, but math.prod breaks otherwise\n",
    "\n",
    "# use previous method to find factors\n",
    "# if method can't find any factos, add to primes\n",
    "# loop until prime_factors multiplies to n\n",
    "\n",
    "while math.prod(prime_factors) != n:\n",
    "    for factor in factors:\n",
    "        start = math.ceil(math.sqrt(factor))\n",
    "        m = start**2 - factor\n",
    "        while math.sqrt(m) % 1 != 0:\n",
    "            start += 1\n",
    "            m = start**2 - factor\n",
    "        small_factor = start - math.sqrt(m)\n",
    "        big_factor = start + math.sqrt(m)\n",
    "        if big_factor == factor: # for primes e.g. if factor = 7, big_factor = 7, append to primes\n",
    "            prime_factors.append(big_factor)\n",
    "        else:\n",
    "            factors.append(small_factor)\n",
    "            factors.append(big_factor)\n",
    "            \n",
    "print(factors, prime_factors)"
   ]
  },
  {
   "cell_type": "code",
   "execution_count": null,
   "id": "ff036aef",
   "metadata": {},
   "outputs": [],
   "source": [
    "# lovely stuff, that's the lot. A quick google search confirms all those are prime\n",
    "# so the largest prime factor of 600851475143 is 6857"
   ]
  }
 ],
 "metadata": {
  "kernelspec": {
   "display_name": "Python 3 (ipykernel)",
   "language": "python",
   "name": "python3"
  },
  "language_info": {
   "codemirror_mode": {
    "name": "ipython",
    "version": 3
   },
   "file_extension": ".py",
   "mimetype": "text/x-python",
   "name": "python",
   "nbconvert_exporter": "python",
   "pygments_lexer": "ipython3",
   "version": "3.9.7"
  }
 },
 "nbformat": 4,
 "nbformat_minor": 5
}
