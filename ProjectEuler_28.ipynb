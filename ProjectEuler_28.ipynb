{
 "cells": [
  {
   "cell_type": "markdown",
   "metadata": {},
   "source": [
    "### Project Euler 28\n",
    "---\n",
    "# Number Spiral Diagonals\n",
    "\n",
    "* [link](https://projecteuler.net/problem=28)\n",
    "* Start with 1 and then moving to the right and proceeding in a clockwise direction, a $ n$ x $n $ spiral is formed.\n",
    "* What is the sum of the numbers on the diagonals in a $ 1001$ x $1001$ spiral formed in this way?"
   ]
  },
  {
   "cell_type": "code",
   "execution_count": 1,
   "metadata": {},
   "outputs": [],
   "source": [
    "# gonna try a coordinates approach, with 1 as (0,0)\n",
    "coords = [[[0,0], 1]]\n",
    "# force the spiral to be n x n (must be odd number)\n",
    "n = 1001\n",
    "current_spiral = 0 # start on a '0th' spiral \n",
    "right_limit = False # set limits on how far we can go in a given direction for each spiral\n",
    "down_limit = False\n",
    "left_limit = False\n",
    "up_limit = False\n",
    "while coords[-1][1] < n**2: # while the last integer is less than the maximum spiral value\n",
    "    coord_limit = current_spiral + 1\n",
    "    x = coords[-1][0][0]\n",
    "    y = coords[-1][0][1]\n",
    "    right = x + 1 <= coord_limit\n",
    "    down = y - 1 >= -coord_limit\n",
    "    left = x - 1 >= -coord_limit\n",
    "    up = y + 1 <= coord_limit\n",
    "    next_int = coords[-1][1] + 1\n",
    "    if right and not right_limit: # don't go right if we've hit the limit for the current spiral\n",
    "        coords.append([[x+1, y], next_int])\n",
    "        if x + 1 == coord_limit: # if the value we've just appended hits the limit for the current spiral, change the limit to True\n",
    "            right_limit = True\n",
    "    elif down and not down_limit:\n",
    "        coords.append([[x, y-1], next_int])\n",
    "        if y - 1 == -coord_limit:\n",
    "            down_limit = True\n",
    "    elif left and not left_limit:\n",
    "        coords.append([[x-1, y], next_int])\n",
    "        if x - 1 == -coord_limit:\n",
    "            left_limit = True\n",
    "    elif up and not up_limit:\n",
    "        coords.append([[x, y+1], next_int])\n",
    "        if y + 1 == coord_limit:\n",
    "            up_limit = True\n",
    "    else: # if we can't go any direction, go to next spiral and reset limits\n",
    "        current_spiral += 1\n",
    "        right_limit = False\n",
    "        down_limit = False\n",
    "        left_limit = False\n",
    "        up_limit = False"
   ]
  },
  {
   "cell_type": "code",
   "execution_count": 2,
   "metadata": {},
   "outputs": [
    {
     "data": {
      "text/plain": [
       "669171001"
      ]
     },
     "execution_count": 2,
     "metadata": {},
     "output_type": "execute_result"
    }
   ],
   "source": [
    "diagonal_sum = 0\n",
    "for coord in coords:\n",
    "    if abs(coord[0][0]) == abs(coord[0][1]):\n",
    "        diagonal_sum = diagonal_sum + coord[1]\n",
    "diagonal_sum"
   ]
  }
 ],
 "metadata": {
  "kernelspec": {
   "display_name": "Python 3",
   "language": "python",
   "name": "python3"
  },
  "language_info": {
   "codemirror_mode": {
    "name": "ipython",
    "version": 3
   },
   "file_extension": ".py",
   "mimetype": "text/x-python",
   "name": "python",
   "nbconvert_exporter": "python",
   "pygments_lexer": "ipython3",
   "version": "3.9.6"
  }
 },
 "nbformat": 4,
 "nbformat_minor": 2
}
