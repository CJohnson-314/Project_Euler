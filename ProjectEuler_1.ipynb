{
 "cells": [
  {
   "cell_type": "code",
   "execution_count": null,
   "id": "16751ae3",
   "metadata": {},
   "outputs": [],
   "source": [
    "# https://projecteuler.net/problem=1\n",
    "# Natural numbers < 10 that are multiples of 3 or 5: 3, 5, 6, 9\n",
    "# The sum of these multiples is 23\n",
    "# Find the sum of all the multiples of 3 or 5 below 1000"
   ]
  },
  {
   "cell_type": "code",
   "execution_count": 12,
   "id": "88acc5bc",
   "metadata": {},
   "outputs": [],
   "source": [
    "# multiples of 3:\n",
    "m3 = {3}\n",
    "i = 2\n",
    "while i * 3 < 1000:\n",
    "    n = i * 3\n",
    "    m3.add(n)\n",
    "    i += 1"
   ]
  },
  {
   "cell_type": "code",
   "execution_count": 6,
   "id": "ad2e5831",
   "metadata": {},
   "outputs": [],
   "source": [
    "# multiples of 5:\n",
    "m5 = {5}\n",
    "i = 2\n",
    "while i * 5 < 1000:\n",
    "    n = i * 5\n",
    "    m5.add(n)\n",
    "    i += 1"
   ]
  },
  {
   "cell_type": "code",
   "execution_count": 14,
   "id": "0d49f29f",
   "metadata": {},
   "outputs": [
    {
     "data": {
      "text/plain": [
       "233168"
      ]
     },
     "execution_count": 14,
     "metadata": {},
     "output_type": "execute_result"
    }
   ],
   "source": [
    "sum(m3.union(m5))"
   ]
  }
 ],
 "metadata": {
  "kernelspec": {
   "display_name": "Python 3 (ipykernel)",
   "language": "python",
   "name": "python3"
  },
  "language_info": {
   "codemirror_mode": {
    "name": "ipython",
    "version": 3
   },
   "file_extension": ".py",
   "mimetype": "text/x-python",
   "name": "python",
   "nbconvert_exporter": "python",
   "pygments_lexer": "ipython3",
   "version": "3.9.7"
  }
 },
 "nbformat": 4,
 "nbformat_minor": 5
}
