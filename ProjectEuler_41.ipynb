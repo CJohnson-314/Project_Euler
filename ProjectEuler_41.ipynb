{
 "cells": [
  {
   "cell_type": "markdown",
   "id": "43922d01",
   "metadata": {},
   "source": [
    "### Project Euler 41\n",
    "---\n",
    "## Pandigital Primes\n",
    "* [Link](https://projecteuler.net/problem=41)\n",
    "* An $n$ digit number is pandigital if it uses the digits $1$ to $n$ exactly once\n",
    "* What is the largest pandigital prime?"
   ]
  },
  {
   "cell_type": "code",
   "execution_count": 1,
   "id": "34af2e1b",
   "metadata": {},
   "outputs": [],
   "source": [
    "from ProjectEuler_3_factors_function import factors\n",
    "from itertools import permutations"
   ]
  },
  {
   "cell_type": "code",
   "execution_count": 2,
   "id": "3df5ccdf",
   "metadata": {},
   "outputs": [],
   "source": [
    "def check_for_pandigital_prime(n: int) -> bool:\n",
    "    if n % 2 != 0 and n % 3 != 0 and n % 5 != 0:\n",
    "        if len(factors(n)[0]) == 2:\n",
    "            return True\n",
    "    else:\n",
    "        return False"
   ]
  },
  {
   "cell_type": "code",
   "execution_count": 3,
   "id": "ac9b8560",
   "metadata": {},
   "outputs": [
    {
     "name": "stdout",
     "output_type": "stream",
     "text": [
      "7652413\n"
     ]
    }
   ],
   "source": [
    "digits = ['1', '2', '3', '4', '5', '6', '7', '8', '9']\n",
    "pandigitals = [int(''.join(perm)) for perm in permutations(digits, len(digits))][::-1]\n",
    "found = False\n",
    "while found == False:\n",
    "    for number in pandigitals:\n",
    "        if check_for_pandigital_prime(number):\n",
    "            found = True\n",
    "            print(number)\n",
    "            break\n",
    "    digits = digits[:-1]\n",
    "    pandigitals = [int(''.join(perm)) for perm in permutations(digits, len(digits))][::-1]"
   ]
  }
 ],
 "metadata": {
  "kernelspec": {
   "display_name": "Python 3",
   "language": "python",
   "name": "python3"
  },
  "language_info": {
   "codemirror_mode": {
    "name": "ipython",
    "version": 3
   },
   "file_extension": ".py",
   "mimetype": "text/x-python",
   "name": "python",
   "nbconvert_exporter": "python",
   "pygments_lexer": "ipython3",
   "version": "3.9.6"
  }
 },
 "nbformat": 4,
 "nbformat_minor": 5
}
