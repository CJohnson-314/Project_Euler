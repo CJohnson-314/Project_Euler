{
 "cells": [
  {
   "cell_type": "markdown",
   "metadata": {},
   "source": [
    "# Project Euler 18\n",
    "---\n",
    "## Maximum Path Sum 1\n",
    "\n",
    "* [Link](https://projecteuler.net/problem=18)\n",
    "* By moving down and one step to the right only in the following triangle, find the maximum total from the top to the bottom"
   ]
  },
  {
   "cell_type": "raw",
   "metadata": {
    "vscode": {
     "languageId": "html"
    }
   },
   "source": [
    "75\n",
    "95 64\n",
    "17 47 82\n",
    "18 35 87 10\n",
    "20 04 82 47 65\n",
    "19 01 23 75 03 34\n",
    "88 02 77 73 07 63 67\n",
    "99 65 04 28 06 16 70 92\n",
    "41 41 26 56 83 40 80 70 33\n",
    "41 48 72 33 47 32 37 16 94 29\n",
    "53 71 44 65 25 43 91 52 97 51 14\n",
    "70 11 33 28 77 73 17 78 39 68 17 57\n",
    "91 71 52 38 17 14 91 43 58 50 27 29 48\n",
    "63 66 04 68 89 53 67 30 73 16 69 87 40 31\n",
    "04 62 98 27 23 09 70 98 73 93 38 53 60 04 23"
   ]
  },
  {
   "cell_type": "code",
   "execution_count": 6,
   "metadata": {},
   "outputs": [],
   "source": [
    "rows = [(75),\n",
    "(95, 64),\n",
    "(17, 47, 82),\n",
    "(18, 35, 87, 10),\n",
    "(20, 4, 82, 47, 65),\n",
    "(19, 1, 23, 75, 3, 34),\n",
    "(88, 2, 77, 73, 7, 63, 67),\n",
    "(99, 65, 4, 28, 6, 16, 70, 92),\n",
    "(41, 41, 26, 56, 83, 40, 80, 70, 33),\n",
    "(41, 48, 72, 33, 47, 32, 37, 16, 94, 29),\n",
    "(53, 71, 44, 65, 25, 43, 91, 52, 97, 51, 14),\n",
    "(70, 11, 33, 28, 77, 73, 17, 78, 39, 68, 17, 57),\n",
    "(91, 71, 52, 38, 17, 14, 91, 43, 58, 50, 27, 29, 48),\n",
    "(63, 66, 4, 68, 89, 53, 67, 30, 73, 16, 69, 87, 40, 31),\n",
    "(4, 62, 98, 27, 23, 9, 70, 98, 73, 93, 38, 53, 60, 4, 23)]"
   ]
  },
  {
   "cell_type": "code",
   "execution_count": 7,
   "metadata": {},
   "outputs": [
    {
     "data": {
      "text/plain": [
       "{0: 75,\n",
       " 1: 95,\n",
       " 2: 47,\n",
       " 3: 87,\n",
       " 4: 82,\n",
       " 5: 75,\n",
       " 6: 73,\n",
       " 7: 28,\n",
       " 8: 83,\n",
       " 9: 47,\n",
       " 10: 43,\n",
       " 11: 73,\n",
       " 12: 91,\n",
       " 13: 67,\n",
       " 14: 98}"
      ]
     },
     "execution_count": 7,
     "metadata": {},
     "output_type": "execute_result"
    }
   ],
   "source": [
    "start_position = 0\n",
    "row = 1\n",
    "route = {0: 75}\n",
    "while row <= 14:\n",
    "    if rows[row][start_position] > rows[row][start_position + 1]:\n",
    "        chosen_value = rows[row][start_position]\n",
    "        # start_position remains the same\n",
    "    else:\n",
    "        chosen_value = rows[row][start_position + 1]\n",
    "        start_position += 1  # Move to the next position\n",
    "    route[row] = chosen_value\n",
    "    row += 1\n",
    "route"
   ]
  },
  {
   "cell_type": "markdown",
   "metadata": {},
   "source": [
    "* This script does correct find the highest value that is allowed in the following row\n",
    "* I realised that that does not guarantee being the correct route\n",
    "* Following method brute forces it, and checks all routes to find the correct answer"
   ]
  },
  {
   "cell_type": "code",
   "execution_count": 8,
   "metadata": {},
   "outputs": [],
   "source": [
    "import itertools\n",
    "# Generate all combinations of 0s and 1s\n",
    "combinations = list(itertools.product([0, 1], repeat=14))"
   ]
  },
  {
   "cell_type": "code",
   "execution_count": 9,
   "metadata": {},
   "outputs": [],
   "source": [
    "sum_of_routes = list()\n",
    "for combo in combinations:\n",
    "    position = 0\n",
    "    row = 1\n",
    "    combo_route = [75]\n",
    "    while row <= 14:\n",
    "        position = position + combo[row-1]\n",
    "        combo_route.append(rows[row][position])\n",
    "        row += 1\n",
    "    sum_of_routes.append({tuple(combo_route):sum(combo_route)})"
   ]
  },
  {
   "cell_type": "code",
   "execution_count": 10,
   "metadata": {},
   "outputs": [
    {
     "data": {
      "text/plain": [
       "{(75, 64, 82, 87, 82, 75, 73, 28, 83, 32, 91, 78, 58, 73, 93): 1074}"
      ]
     },
     "execution_count": 10,
     "metadata": {},
     "output_type": "execute_result"
    }
   ],
   "source": [
    "max(sum_of_routes, key=lambda x: list(x.values())[0])"
   ]
  }
 ],
 "metadata": {
  "kernelspec": {
   "display_name": "base",
   "language": "python",
   "name": "python3"
  },
  "language_info": {
   "codemirror_mode": {
    "name": "ipython",
    "version": 3
   },
   "file_extension": ".py",
   "mimetype": "text/x-python",
   "name": "python",
   "nbconvert_exporter": "python",
   "pygments_lexer": "ipython3",
   "version": "3.9.7"
  }
 },
 "nbformat": 4,
 "nbformat_minor": 2
}
