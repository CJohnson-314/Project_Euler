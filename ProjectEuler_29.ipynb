{
 "cells": [
  {
   "cell_type": "markdown",
   "metadata": {},
   "source": [
    "### Project Euler 29\n",
    "---\n",
    "# Distinct Powers\n",
    "\n",
    "* [Link](https://projecteuler.net/problem=29)\n",
    "* How many distinct integer combinations are there for $ a^b $, for $ 2 <= a <= 100,$  $ 2 <= b <= 100$?"
   ]
  },
  {
   "cell_type": "code",
   "execution_count": 1,
   "metadata": {},
   "outputs": [
    {
     "data": {
      "text/plain": [
       "9183"
      ]
     },
     "execution_count": 1,
     "metadata": {},
     "output_type": "execute_result"
    }
   ],
   "source": [
    "# Perfect use for sets\n",
    "integer_values = set()\n",
    "for a in range(2, 101):\n",
    "    for b in range(2, 101):\n",
    "        integer_values.add(a**b)\n",
    "len(integer_values)"
   ]
  }
 ],
 "metadata": {
  "kernelspec": {
   "display_name": "Python 3",
   "language": "python",
   "name": "python3"
  },
  "language_info": {
   "codemirror_mode": {
    "name": "ipython",
    "version": 3
   },
   "file_extension": ".py",
   "mimetype": "text/x-python",
   "name": "python",
   "nbconvert_exporter": "python",
   "pygments_lexer": "ipython3",
   "version": "3.9.6"
  }
 },
 "nbformat": 4,
 "nbformat_minor": 2
}
