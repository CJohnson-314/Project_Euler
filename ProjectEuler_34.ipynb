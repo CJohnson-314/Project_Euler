{
 "cells": [
  {
   "cell_type": "markdown",
   "metadata": {},
   "source": [
    "# Project Euler 34\n",
    "## Digit Factorials\n",
    "* [Link](https://projecteuler.net/problem=34)\n",
    "* Find the sum of all numbers that are equal to the factorial of their digits\n",
    "* exclude 1 & 2 "
   ]
  },
  {
   "cell_type": "code",
   "execution_count": 1,
   "metadata": {},
   "outputs": [],
   "source": [
    "# pretty certain the math module has factorials, but we'll write a function\n",
    "def fact(n: int) -> int:\n",
    "    assert n >= 0, 'no negative values'\n",
    "    assert type(n) == int, 'integers only'\n",
    "    if n == 0:\n",
    "        return 1\n",
    "    else:\n",
    "        result = n\n",
    "        while n >= 2:\n",
    "            n -= 1\n",
    "            result *= n\n",
    "        return result\n"
   ]
  },
  {
   "cell_type": "code",
   "execution_count": 2,
   "metadata": {},
   "outputs": [],
   "source": [
    "# okay not bothering with assert anymore\n",
    "# I know what's going into the function\n",
    "def dig_fact_checker(n: int) -> bool:\n",
    "    n_list = [int(digit) for digit in str(n)]\n",
    "    fact_list = [fact(digit) for digit in n_list]\n",
    "    if n == sum(fact_list):\n",
    "        return True\n",
    "    else:\n",
    "        return False"
   ]
  },
  {
   "cell_type": "code",
   "execution_count": 3,
   "metadata": {},
   "outputs": [
    {
     "data": {
      "text/plain": [
       "True"
      ]
     },
     "execution_count": 3,
     "metadata": {},
     "output_type": "execute_result"
    }
   ],
   "source": [
    "dig_fact_checker(145)"
   ]
  },
  {
   "cell_type": "code",
   "execution_count": 4,
   "metadata": {},
   "outputs": [],
   "source": [
    "# gotta find an upper bound to check to\n",
    "# 9! = 362880\n",
    "# maximum sum for a 7 digit number is 9! * 7 = ~2.5 mil, so impossible\n",
    "# maximum sum for a 6 digit number is 9! * 6 = 2177280, so that's what we check up to\n",
    "# sure there's about a million ways to optimise further, but it's late and runs in ~10 secs\n",
    "results = []\n",
    "for n in range(3, 2177280, 1):\n",
    "    if dig_fact_checker(n) is True:\n",
    "        results.append(n)\n",
    "    n += 1"
   ]
  },
  {
   "cell_type": "code",
   "execution_count": 5,
   "metadata": {},
   "outputs": [
    {
     "data": {
      "text/plain": [
       "40730"
      ]
     },
     "execution_count": 5,
     "metadata": {},
     "output_type": "execute_result"
    }
   ],
   "source": [
    "sum(results)"
   ]
  }
 ],
 "metadata": {
  "kernelspec": {
   "display_name": "base",
   "language": "python",
   "name": "python3"
  },
  "language_info": {
   "codemirror_mode": {
    "name": "ipython",
    "version": 3
   },
   "file_extension": ".py",
   "mimetype": "text/x-python",
   "name": "python",
   "nbconvert_exporter": "python",
   "pygments_lexer": "ipython3",
   "version": "3.9.7"
  }
 },
 "nbformat": 4,
 "nbformat_minor": 2
}
