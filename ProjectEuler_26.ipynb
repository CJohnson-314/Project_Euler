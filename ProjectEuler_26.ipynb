{
 "cells": [
  {
   "cell_type": "markdown",
   "metadata": {},
   "source": [
    "# Project Euler 26\n",
    "---\n",
    "## Reciprocal Cycles\n",
    "\n",
    "* [Link](https://projecteuler.net/problem=26)\n",
    "* Find the $d < 1000$ such that $1/d$ has the longest recuring cycle in its decimal representation"
   ]
  },
  {
   "cell_type": "code",
   "execution_count": 1,
   "metadata": {},
   "outputs": [],
   "source": [
    "def recurring_string(n: int) -> str:\n",
    "    assert n >= 1, 'input must be a natural number'\n",
    "    assert type(n) == int, 'input must be a natural number'\n",
    "    # remainder at first step will always be 1\n",
    "    quotient = int(10 / n)\n",
    "    remainder = 10 % n\n",
    "    qr_combos = []\n",
    "    answer = []\n",
    "    while [quotient, remainder] not in qr_combos:\n",
    "        answer.append(str(quotient))\n",
    "        qr_combos.append([quotient, remainder])\n",
    "        quotient = int(10 * remainder / n)\n",
    "        remainder = (10 * remainder) % n\n",
    "    cycle_start = qr_combos.index([quotient, remainder])\n",
    "    recurring_cycle = ''.join(answer[cycle_start:])\n",
    "    return recurring_cycle\n",
    "\n"
   ]
  },
  {
   "cell_type": "code",
   "execution_count": 2,
   "metadata": {},
   "outputs": [
    {
     "data": {
      "text/plain": [
       "6"
      ]
     },
     "execution_count": 2,
     "metadata": {},
     "output_type": "execute_result"
    }
   ],
   "source": [
    "len(recurring_string(7))"
   ]
  },
  {
   "cell_type": "code",
   "execution_count": 3,
   "metadata": {},
   "outputs": [
    {
     "name": "stdout",
     "output_type": "stream",
     "text": [
      "1/983 has the longest recurring cycle, with length 982\n"
     ]
    }
   ],
   "source": [
    "max_recurring_string = 0\n",
    "longest = 0\n",
    "for n in range(1, 1000):\n",
    "    if len(recurring_string(n)) > max_recurring_string:\n",
    "        max_recurring_string = len(recurring_string(n))\n",
    "        longest = n\n",
    "print(f'1/{longest} has the longest recurring cycle, with length {max_recurring_string}')"
   ]
  }
 ],
 "metadata": {
  "kernelspec": {
   "display_name": "Python 3",
   "language": "python",
   "name": "python3"
  },
  "language_info": {
   "codemirror_mode": {
    "name": "ipython",
    "version": 3
   },
   "file_extension": ".py",
   "mimetype": "text/x-python",
   "name": "python",
   "nbconvert_exporter": "python",
   "pygments_lexer": "ipython3",
   "version": "3.9.6"
  }
 },
 "nbformat": 4,
 "nbformat_minor": 2
}
