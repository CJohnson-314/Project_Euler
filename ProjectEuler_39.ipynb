{
 "cells": [
  {
   "cell_type": "markdown",
   "id": "345c524c",
   "metadata": {},
   "source": [
    "### Project Euler 39\n",
    "---\n",
    "## Integer Right Triangles\n",
    "* [Link](https://projecteuler.net/problem=39)\n",
    "* If $p$ is the perimeter of a right angle triangle with side lengths $a, b, c$, then there are three solutions for $p = 120$:\n",
    "* $\\{20, 48, 52\\}, \\{24, 45, 51\\}, \\{30, 40, 50\\}$\n",
    "* For which value of $p <= 1000$ is the number of solutions maximised?"
   ]
  },
  {
   "cell_type": "code",
   "execution_count": 1,
   "id": "164eec24",
   "metadata": {},
   "outputs": [],
   "source": [
    "def sum_combinations(target):\n",
    "    combinations = []\n",
    "    for a in range(1, target - 1):  \n",
    "        for b in range(a, target - a):  \n",
    "            c = target - (a + b)  \n",
    "            if c >= b:  # Only get each combo once\n",
    "                combinations.append((a, b, c))\n",
    "    return combinations"
   ]
  },
  {
   "cell_type": "code",
   "execution_count": 2,
   "id": "87943c15",
   "metadata": {},
   "outputs": [],
   "source": [
    "def valid_r_triangles(n: int) -> list:\n",
    "    result = []\n",
    "    combinations = sum_combinations(n)\n",
    "    for combo in combinations:\n",
    "        a = combo[0]\n",
    "        b = combo[1]\n",
    "        c = combo[2]\n",
    "        conditions = [a + b < c, # a + b < c => a^2 + b^2 < c^2\n",
    "                      c%2 == 0 and a%2 != b%2, # If c even, either a & b even or a & b odd\n",
    "                      c%2 != 0 and sum([a%2 == 0, b%2 == 0]) != 1 # If c odd, exactly one of a & b is even\n",
    "        ]\n",
    "        if any(conditions):\n",
    "            continue\n",
    "        elif a**2 + b**2 == c**2:\n",
    "            result.append(combo)\n",
    "    return result"
   ]
  },
  {
   "cell_type": "code",
   "execution_count": 3,
   "id": "90e97f99",
   "metadata": {},
   "outputs": [
    {
     "name": "stdout",
     "output_type": "stream",
     "text": [
      "8 840\n"
     ]
    }
   ],
   "source": [
    "max_options = 0\n",
    "max_options_n = 0\n",
    "for p in range(4, 1002, 2):\n",
    "    if len(valid_r_triangles(p)) > max_options:\n",
    "        max_options = len(valid_r_triangles(p))\n",
    "        max_options_n = p\n",
    "print(max_options, max_options_n) # Takes about 8 seconds on my machine. I'll take it."
   ]
  }
 ],
 "metadata": {
  "kernelspec": {
   "display_name": "Python 3",
   "language": "python",
   "name": "python3"
  },
  "language_info": {
   "codemirror_mode": {
    "name": "ipython",
    "version": 3
   },
   "file_extension": ".py",
   "mimetype": "text/x-python",
   "name": "python",
   "nbconvert_exporter": "python",
   "pygments_lexer": "ipython3",
   "version": "3.9.6"
  }
 },
 "nbformat": 4,
 "nbformat_minor": 5
}
