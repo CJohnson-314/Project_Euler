{
 "cells": [
  {
   "cell_type": "markdown",
   "metadata": {},
   "source": [
    "### Project Euler 37\n",
    "---\n",
    "## Truncatable Primes\n",
    "* [Link](https://projecteuler.net/problem=37)\n",
    "* $3797$ is a _truncatable_ prime: whether working from right to left or vice versa, the number remains prime as you remove digits\n",
    "* Find the sum of all 11 truncatable primes\n",
    "* NB $2, 3, 5, \\& \\ 7$ are not considered truncatable primes "
   ]
  },
  {
   "cell_type": "markdown",
   "metadata": {},
   "source": [
    "This one took me a fair while... the big one was just killing me\n",
    "Almost certainly wasn't helped by converting ints to strings, and sticking with my factors function, but I got there in the end!"
   ]
  },
  {
   "cell_type": "code",
   "execution_count": 1,
   "metadata": {},
   "outputs": [],
   "source": [
    "from ProjectEuler_3_factors_function import factors"
   ]
  },
  {
   "cell_type": "code",
   "execution_count": 2,
   "metadata": {},
   "outputs": [],
   "source": [
    "# In the end the only thing that got me the speed to get to big numbers in a reasonable amount of time were these invalid_ functions\n",
    "# Just helps to rule out a load of numbers that can never be a truncateable prime\n",
    "# nb 2,4,6,8,0 are not valid ends as well, but I don't even bother to check them in the loop below, so removed from invalid_end\n",
    "def invalid_start(n: int) -> bin:\n",
    "    while n >= 10:\n",
    "        n //= 10\n",
    "    return n in {1, 4, 6, 8, 9}\n",
    "def invalid_end(n: int) -> bin:\n",
    "    return n % 10 in {1, 5, 9}\n",
    "def invalid_middle(n:int) -> bin:\n",
    "    n_str = str(n)\n",
    "    return any(digit in {'2', '4', '6', '8', '0'} for digit in n_str[1:])\n",
    "def find_subsets(n: str) -> list:\n",
    "    subsets = []\n",
    "    for i in range(len(n)):\n",
    "        subsets.append(int(n[i:]))\n",
    "    for j in range(1, len(n)):\n",
    "        subsets.append(int(n[:-j]))\n",
    "    return subsets"
   ]
  },
  {
   "cell_type": "code",
   "execution_count": 3,
   "metadata": {},
   "outputs": [
    {
     "name": "stdout",
     "output_type": "stream",
     "text": [
      "50001\n",
      "100001\n",
      "150001\n",
      "200001\n",
      "250001\n",
      "300001\n",
      "350001\n",
      "400001\n",
      "450001\n",
      "500001\n",
      "550001\n",
      "600001\n",
      "650001\n",
      "700001\n"
     ]
    },
    {
     "data": {
      "text/plain": [
       "[23, 37, 53, 73, 313, 317, 373, 797, 3137, 3797, 739397]"
      ]
     },
     "execution_count": 3,
     "metadata": {},
     "output_type": "execute_result"
    }
   ],
   "source": [
    "truncateable_primes = []\n",
    "n = 11\n",
    "while len(truncateable_primes) < 11:\n",
    "    if invalid_start(n) or invalid_middle(n) or invalid_end(n):\n",
    "        n += 2\n",
    "        if n % 50000 == 1: # just to keep an eye on progress!\n",
    "            print(n)\n",
    "        continue\n",
    "    else:\n",
    "        if not any(len(factors(int(subset))[0]) != 2 for subset in find_subsets(str(n))):\n",
    "            truncateable_primes.append(n)\n",
    "        n += 2\n",
    "truncateable_primes"
   ]
  },
  {
   "cell_type": "code",
   "execution_count": 4,
   "metadata": {},
   "outputs": [
    {
     "data": {
      "text/plain": [
       "748317"
      ]
     },
     "execution_count": 4,
     "metadata": {},
     "output_type": "execute_result"
    }
   ],
   "source": [
    "sum(truncateable_primes)"
   ]
  }
 ],
 "metadata": {
  "kernelspec": {
   "display_name": "Python 3",
   "language": "python",
   "name": "python3"
  },
  "language_info": {
   "codemirror_mode": {
    "name": "ipython",
    "version": 3
   },
   "file_extension": ".py",
   "mimetype": "text/x-python",
   "name": "python",
   "nbconvert_exporter": "python",
   "pygments_lexer": "ipython3",
   "version": "3.9.6"
  }
 },
 "nbformat": 4,
 "nbformat_minor": 2
}
