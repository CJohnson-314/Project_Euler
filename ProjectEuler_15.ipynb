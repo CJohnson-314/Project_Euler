{
 "cells": [
  {
   "cell_type": "markdown",
   "id": "9f3aecf5",
   "metadata": {},
   "source": [
    "# Project Euler 15\n",
    "---\n",
    "## Power Digit Sum\n",
    "\n",
    "* [Link](https://projecteuler.net/problem=15)\n",
    "* Starting from the top-left corner and only travelling right or down, how many ways are there through a $20 \\times 20$ grid?"
   ]
  },
  {
   "cell_type": "code",
   "execution_count": 1,
   "id": "e5578ab8",
   "metadata": {},
   "outputs": [
    {
     "name": "stdout",
     "output_type": "stream",
     "text": [
      "total paths for a 20x20 grid: 137846528820\n"
     ]
    }
   ],
   "source": [
    "# •--•--•\n",
    "# |  |  |\n",
    "# •--•--•\n",
    "# |  |  |\n",
    "# •--•--•\n",
    "# How many ways to reach (1, 0) and (0, -1)? 1 each (either go right or down).\n",
    "# Then (1, -1)? 2: the one route to each of (1, 0) & (0, -1) can then go down or right respectively\n",
    "# So on and on we can see that there's six routes for a 2x2 grid. \n",
    "# Lets try and build off of that\n",
    "points_dict = {(0,0): 1} # 1 route is perhaps philosophically suspect, but we'll roll with it\n",
    "grid_size = 20 # This will only work for a nxn grid\n",
    "current_point = (1, 0)\n",
    "while current_point != (grid_size, -grid_size):\n",
    "    ways_to_reach_current_point = 0\n",
    "    for key in points_dict.keys():\n",
    "        if (key[0] + 1, key[1]) == current_point:\n",
    "            ways_to_reach_current_point += points_dict[(current_point[0] - 1, current_point[1])]\n",
    "        if (key[0], key[1] - 1) == current_point:\n",
    "            ways_to_reach_current_point += points_dict[(current_point[0], current_point[1] + 1)]\n",
    "    points_dict[current_point] = ways_to_reach_current_point\n",
    "    if current_point[0] > abs(current_point[1]):\n",
    "        current_point = (abs(current_point[1]), -current_point[0])\n",
    "    elif current_point[0] < abs(current_point[1]):\n",
    "        current_point = (abs(current_point[1]), -current_point[0] -1)\n",
    "    elif current_point[0] == abs(current_point[1]):\n",
    "        current_point = (current_point[0] + 1, 0)\n",
    "total_paths = points_dict[(grid_size, -grid_size + 1)] + points_dict[(grid_size - 1, -grid_size)]\n",
    "print(f\"total paths for a {grid_size}x{grid_size} grid: {total_paths}\")\n"
   ]
  }
 ],
 "metadata": {
  "kernelspec": {
   "display_name": "Python 3",
   "language": "python",
   "name": "python3"
  },
  "language_info": {
   "codemirror_mode": {
    "name": "ipython",
    "version": 3
   },
   "file_extension": ".py",
   "mimetype": "text/x-python",
   "name": "python",
   "nbconvert_exporter": "python",
   "pygments_lexer": "ipython3",
   "version": "3.9.6"
  }
 },
 "nbformat": 4,
 "nbformat_minor": 5
}
