{
 "cells": [
  {
   "cell_type": "markdown",
   "metadata": {},
   "source": [
    "# Project Euler 17\n",
    "---\n",
    "## Number Letter Counts"
   ]
  },
  {
   "cell_type": "markdown",
   "metadata": {},
   "source": [
    "* [Project Euler Link](https://projecteuler.net/problem=17)\n",
    "* If the numbers from 1 to 1000 (inclusive) are written out in English, how many letters are used?\n",
    "* Do not count spaces or hyphens"
   ]
  },
  {
   "cell_type": "code",
   "execution_count": 1,
   "metadata": {},
   "outputs": [
    {
     "data": {
      "text/plain": [
       "{1: 'one',\n",
       " 2: 'two',\n",
       " 3: 'three',\n",
       " 4: 'four',\n",
       " 5: 'five',\n",
       " 6: 'six',\n",
       " 7: 'seven',\n",
       " 8: 'eight',\n",
       " 9: 'nine',\n",
       " 10: 'ten',\n",
       " 11: 'eleven',\n",
       " 12: 'twelve',\n",
       " 13: 'thirteen',\n",
       " 14: 'fourteen',\n",
       " 15: 'fifteen',\n",
       " 16: 'sixteen',\n",
       " 17: 'seventeen',\n",
       " 18: 'eighteen',\n",
       " 19: 'nineteen',\n",
       " 20: 'twenty',\n",
       " 30: 'thirty',\n",
       " 40: 'forty',\n",
       " 50: 'fifty',\n",
       " 60: 'sixty',\n",
       " 70: 'seventy',\n",
       " 80: 'eighty',\n",
       " 90: 'ninety'}"
      ]
     },
     "execution_count": 1,
     "metadata": {},
     "output_type": "execute_result"
    }
   ],
   "source": [
    "numbers = {}\n",
    "numbers[1] = 'one'\n",
    "numbers[2] = 'two'\n",
    "numbers[3] = 'three'\n",
    "numbers[4] = 'four'\n",
    "numbers[5] = 'five'\n",
    "numbers[6] = 'six'\n",
    "numbers[7] = 'seven'\n",
    "numbers[8] = 'eight'\n",
    "numbers[9] = 'nine'\n",
    "numbers[10] = 'ten'\n",
    "numbers[11] = 'eleven'\n",
    "numbers[12] = 'twelve'\n",
    "numbers[13] = 'thirteen'\n",
    "numbers[14] = 'fourteen'\n",
    "numbers[15] = 'fifteen'\n",
    "numbers[16] = 'sixteen'\n",
    "numbers[17] = 'seventeen'\n",
    "numbers[18] = 'eighteen'\n",
    "numbers[19] = 'nineteen'\n",
    "numbers[20] = 'twenty'\n",
    "numbers[30] = 'thirty'\n",
    "numbers[40] = 'forty'\n",
    "numbers[50] = 'fifty'\n",
    "numbers[60] = 'sixty'\n",
    "numbers[70] = 'seventy'\n",
    "numbers[80] = 'eighty'\n",
    "numbers[90] = 'ninety'\n",
    "numbers"
   ]
  },
  {
   "cell_type": "code",
   "execution_count": 2,
   "metadata": {},
   "outputs": [],
   "source": [
    "def written_word(n:int) -> str:\n",
    "    hundreds = n // 100\n",
    "    tens = (n // 10) - (n // 100)*10\n",
    "    ones = int(str(n)[-1])\n",
    "    # deal with most obvious cases:\n",
    "    if n in numbers: # returns 1-20 and all tens < 100\n",
    "        return numbers[n] \n",
    "    elif n == 1000: # returns 1000\n",
    "        return 'onethousand' \n",
    "    elif n % 100 == 0: # returns multiples of 100\n",
    "        return numbers[hundreds] + 'hundred'\n",
    "    else:\n",
    "        if hundreds == 0: # rest of numbers < 100\n",
    "            return numbers[tens*10] + numbers[ones]\n",
    "        else:\n",
    "            if tens < 2: # x00 - x19 for all hundreds\n",
    "                return numbers[hundreds] + 'hundredand' + numbers[n%100]\n",
    "            elif ones > 0: # xx1-xx9\n",
    "                return numbers[hundreds] + 'hundredand' + numbers[tens*10] + numbers[ones]\n",
    "            else: # xx0\n",
    "                return numbers[hundreds] + 'hundredand' + numbers[tens*10] "
   ]
  },
  {
   "cell_type": "code",
   "execution_count": 3,
   "metadata": {},
   "outputs": [
    {
     "data": {
      "text/plain": [
       "'onehundredandthirtyfour'"
      ]
     },
     "execution_count": 3,
     "metadata": {},
     "output_type": "execute_result"
    }
   ],
   "source": [
    "written_word(134)"
   ]
  },
  {
   "cell_type": "code",
   "execution_count": 4,
   "metadata": {},
   "outputs": [
    {
     "data": {
      "text/plain": [
       "21124"
      ]
     },
     "execution_count": 4,
     "metadata": {},
     "output_type": "execute_result"
    }
   ],
   "source": [
    "n = 1\n",
    "length = 0\n",
    "while n <= 1000:\n",
    "    length = length + len(written_word(n))\n",
    "    n += 1\n",
    "length"
   ]
  }
 ],
 "metadata": {
  "kernelspec": {
   "display_name": "base",
   "language": "python",
   "name": "python3"
  },
  "language_info": {
   "codemirror_mode": {
    "name": "ipython",
    "version": 3
   },
   "file_extension": ".py",
   "mimetype": "text/x-python",
   "name": "python",
   "nbconvert_exporter": "python",
   "pygments_lexer": "ipython3",
   "version": "3.9.7"
  }
 },
 "nbformat": 4,
 "nbformat_minor": 2
}
