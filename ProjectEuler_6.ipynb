{
 "cells": [
  {
   "cell_type": "code",
   "execution_count": null,
   "id": "63ed8256",
   "metadata": {},
   "outputs": [],
   "source": [
    "# Sum of squares up to n: 1^2 + 2^2 + 3^2 + ... + n^2\n",
    "# Square of the sum up to n: (1 + 2 + 3 + ... + n)^2\n",
    "# Find the difference between these two for n = 100"
   ]
  },
  {
   "cell_type": "code",
   "execution_count": 7,
   "id": "bca8eb76",
   "metadata": {},
   "outputs": [],
   "source": [
    "def sum_squares(n):\n",
    "    m = 1\n",
    "    sum_squares = 1\n",
    "    while m < n:\n",
    "        m += 1\n",
    "        sum_squares += m**2\n",
    "    return sum_squares"
   ]
  },
  {
   "cell_type": "code",
   "execution_count": 8,
   "id": "01cbc751",
   "metadata": {},
   "outputs": [
    {
     "data": {
      "text/plain": [
       "385"
      ]
     },
     "execution_count": 8,
     "metadata": {},
     "output_type": "execute_result"
    }
   ],
   "source": [
    "sum_squares(10)"
   ]
  },
  {
   "cell_type": "code",
   "execution_count": 9,
   "id": "294d06a7",
   "metadata": {},
   "outputs": [],
   "source": [
    "def square_sum(n):\n",
    "    m = 1\n",
    "    m_sum = 1\n",
    "    while m < n:\n",
    "        m += 1\n",
    "        m_sum += m\n",
    "    return m_sum**2"
   ]
  },
  {
   "cell_type": "code",
   "execution_count": 10,
   "id": "09a5d59a",
   "metadata": {},
   "outputs": [
    {
     "data": {
      "text/plain": [
       "3025"
      ]
     },
     "execution_count": 10,
     "metadata": {},
     "output_type": "execute_result"
    }
   ],
   "source": [
    "square_sum(10)"
   ]
  },
  {
   "cell_type": "code",
   "execution_count": 11,
   "id": "10ba380f",
   "metadata": {},
   "outputs": [
    {
     "data": {
      "text/plain": [
       "25164150"
      ]
     },
     "execution_count": 11,
     "metadata": {},
     "output_type": "execute_result"
    }
   ],
   "source": [
    "square_sum(100) - sum_squares(100)"
   ]
  },
  {
   "cell_type": "code",
   "execution_count": null,
   "id": "c9b145d2",
   "metadata": {},
   "outputs": [],
   "source": []
  }
 ],
 "metadata": {
  "kernelspec": {
   "display_name": "Python 3 (ipykernel)",
   "language": "python",
   "name": "python3"
  },
  "language_info": {
   "codemirror_mode": {
    "name": "ipython",
    "version": 3
   },
   "file_extension": ".py",
   "mimetype": "text/x-python",
   "name": "python",
   "nbconvert_exporter": "python",
   "pygments_lexer": "ipython3",
   "version": "3.9.7"
  }
 },
 "nbformat": 4,
 "nbformat_minor": 5
}
