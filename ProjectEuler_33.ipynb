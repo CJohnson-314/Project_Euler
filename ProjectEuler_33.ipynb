{
 "cells": [
  {
   "cell_type": "markdown",
   "metadata": {},
   "source": [
    "# Project Euler 33\n",
    "---\n",
    "## Digit Cancelling Fractions\n",
    "* [Link](https://projecteuler.net/problem=33)\n",
    "* There are four non-trivial fractions $<1$ with two digits in the numerator and denominator that can be 'digit cancelled' and remain correct ($0$ cancelling, as in $30/50$, is considered trivial).\n",
    "* Find the numerator of the product of these four fractions"
   ]
  },
  {
   "cell_type": "code",
   "execution_count": 1,
   "metadata": {},
   "outputs": [
    {
     "name": "stdout",
     "output_type": "stream",
     "text": [
      "49 98 ['4'] ['8']\n",
      "[[16, 64], [19, 95], [26, 65], [49, 98]]\n"
     ]
    }
   ],
   "source": [
    "results = []\n",
    "for numerator in range(10, 100):\n",
    "    for denominator in range(10, 100):\n",
    "        if denominator > numerator:\n",
    "            num_list = list(str(numerator))\n",
    "            denom_list = list(str(denominator))\n",
    "            for num in num_list:\n",
    "                if num in denom_list:\n",
    "                    num_list.remove(num)\n",
    "                    denom_list.remove(num)\n",
    "                    if int(num) == 0: # get rid of trivial cases\n",
    "                        pass\n",
    "                    elif int(denom_list[0]) == 0: # don't divide by 0\n",
    "                        pass\n",
    "                    elif int(num_list[0]) / int(denom_list[0]) == numerator / denominator:\n",
    "                        results.append([numerator, denominator])\n",
    "print(results)\n"
   ]
  }
 ],
 "metadata": {
  "kernelspec": {
   "display_name": "Python 3",
   "language": "python",
   "name": "python3"
  },
  "language_info": {
   "codemirror_mode": {
    "name": "ipython",
    "version": 3
   },
   "file_extension": ".py",
   "mimetype": "text/x-python",
   "name": "python",
   "nbconvert_exporter": "python",
   "pygments_lexer": "ipython3",
   "version": "3.12.5"
  }
 },
 "nbformat": 4,
 "nbformat_minor": 2
}
