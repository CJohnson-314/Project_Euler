{
 "cells": [
  {
   "cell_type": "markdown",
   "metadata": {},
   "source": [
    "# Project Euler 36\n",
    "___\n",
    "## Double-base Palindromes\n",
    "* [Link](https://projecteuler.net/problem=36)\n",
    "* $585 = 1001001001_2$ in binary, making it palindromic in both bases\n",
    "* Find the sum of all numbers <1,000,000 that have this property"
   ]
  },
  {
   "cell_type": "code",
   "execution_count": 1,
   "metadata": {},
   "outputs": [],
   "source": [
    "# we shall avoid being lazy and just using a module\n",
    "# first function, find the power of two that's closest to n\n",
    "def power2_lequal_n(n: int) -> list:\n",
    "    assert type(n) == int, 'need an int'\n",
    "    assert n > 0, 'be positive'\n",
    "    i = 0\n",
    "    while 2**i <= n:\n",
    "        i += 1\n",
    "    return [i-1, 2**(i-1)] # the power of 2, and the number\n",
    "\n",
    "def n_as_pwrs_of_2(n: int) -> list:\n",
    "    output = []\n",
    "    output.append(power2_lequal_n(n)[0])\n",
    "    remaining = n - power2_lequal_n(n)[1]\n",
    "    while remaining > 0:\n",
    "        output.append(power2_lequal_n(remaining)[0])\n",
    "        remaining -= power2_lequal_n(remaining)[1]\n",
    "    return output\n",
    "        \n",
    "def return_bin(n: int) -> str:\n",
    "    powers = n_as_pwrs_of_2(n)\n",
    "    n_as_bin = []\n",
    "    for digit in range(max(powers) + 1):\n",
    "        if digit in powers:\n",
    "            n_as_bin.append('1')\n",
    "        else:\n",
    "            n_as_bin.append('0')\n",
    "    return ''.join(n_as_bin)[::-1]\n"
   ]
  },
  {
   "cell_type": "code",
   "execution_count": 2,
   "metadata": {},
   "outputs": [],
   "source": [
    "palindromes = []\n",
    "for n in range(1, 1000001):\n",
    "    if str(n) == str(n)[::-1]:\n",
    "        if return_bin(n) == return_bin(n)[::-1]:\n",
    "            palindromes.append(n)"
   ]
  },
  {
   "cell_type": "code",
   "execution_count": 3,
   "metadata": {},
   "outputs": [
    {
     "data": {
      "text/plain": [
       "872187"
      ]
     },
     "execution_count": 3,
     "metadata": {},
     "output_type": "execute_result"
    }
   ],
   "source": [
    "sum(palindromes)"
   ]
  }
 ],
 "metadata": {
  "kernelspec": {
   "display_name": "Python 3",
   "language": "python",
   "name": "python3"
  },
  "language_info": {
   "codemirror_mode": {
    "name": "ipython",
    "version": 3
   },
   "file_extension": ".py",
   "mimetype": "text/x-python",
   "name": "python",
   "nbconvert_exporter": "python",
   "pygments_lexer": "ipython3",
   "version": "3.9.6"
  }
 },
 "nbformat": 4,
 "nbformat_minor": 2
}
