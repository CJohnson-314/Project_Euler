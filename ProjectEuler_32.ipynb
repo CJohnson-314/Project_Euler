{
 "cells": [
  {
   "cell_type": "markdown",
   "metadata": {},
   "source": [
    "# Project Euler 32\n",
    "---\n",
    "## Pandigital Products\n",
    "\n",
    "* [Link](https://projecteuler.net/problem=32)\n",
    "* An $n$ digit number is _pandigital_ if it uses all the digits from $1$ to $n$ exactly once.\n",
    "* Find the sum of all products whose multiplicand/multiplier/product identity can be written as a $1$ through $9$ pandigital."
   ]
  },
  {
   "cell_type": "code",
   "execution_count": 1,
   "metadata": {},
   "outputs": [],
   "source": [
    "# few things to consider\n",
    "# two products cannot contain the same digits\n",
    "# maximum number of digits of any given number is 4 (e.g absolute max would be 1 * 9999 = 9999) otherwise we'd go beyond 9 digits\n",
    "def pandigital_checker(a: int, b: int, c: int) -> bin:\n",
    "    if len(str(a)) + len(str(b)) + len(str(c)) == 9:\n",
    "        if '0' in str(a) or '0' in str(b) or '0' in str(c):\n",
    "            return False\n",
    "        else:\n",
    "            if len({char for string in (str(a), str(b), str(c)) for char in string}) == 9:\n",
    "                return True\n",
    "    else:\n",
    "        return False"
   ]
  },
  {
   "cell_type": "code",
   "execution_count": 2,
   "metadata": {},
   "outputs": [
    {
     "name": "stdout",
     "output_type": "stream",
     "text": [
      "[[4, 1738, 6952], [4, 1963, 7852], [12, 483, 5796], [18, 297, 5346], [27, 198, 5346], [28, 157, 4396], [39, 186, 7254], [42, 138, 5796], [48, 159, 7632], [138, 42, 5796], [157, 28, 4396], [159, 48, 7632], [186, 39, 7254], [198, 27, 5346], [297, 18, 5346], [483, 12, 5796], [1738, 4, 6952], [1963, 4, 7852]]\n"
     ]
    }
   ],
   "source": [
    "pandigital_numbers = []\n",
    "for a in range(1, 5000):\n",
    "    for b in range(1, 5000):\n",
    "        c = a * b\n",
    "        if pandigital_checker(a, b, c) == True:\n",
    "            pandigital_numbers.append([a, b, c])\n",
    "        b += 1\n",
    "    a += 1\n",
    "print(pandigital_numbers)"
   ]
  },
  {
   "cell_type": "code",
   "execution_count": 3,
   "metadata": {},
   "outputs": [
    {
     "data": {
      "text/plain": [
       "45228"
      ]
     },
     "execution_count": 3,
     "metadata": {},
     "output_type": "execute_result"
    }
   ],
   "source": [
    "sum({sublist[-1] for sublist in pandigital_numbers})"
   ]
  },
  {
   "cell_type": "code",
   "execution_count": null,
   "metadata": {},
   "outputs": [],
   "source": []
  }
 ],
 "metadata": {
  "kernelspec": {
   "display_name": "Python 3",
   "language": "python",
   "name": "python3"
  },
  "language_info": {
   "codemirror_mode": {
    "name": "ipython",
    "version": 3
   },
   "file_extension": ".py",
   "mimetype": "text/x-python",
   "name": "python",
   "nbconvert_exporter": "python",
   "pygments_lexer": "ipython3",
   "version": "3.12.5"
  }
 },
 "nbformat": 4,
 "nbformat_minor": 2
}
