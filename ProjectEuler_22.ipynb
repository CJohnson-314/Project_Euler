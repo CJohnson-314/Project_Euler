{
 "cells": [
  {
   "cell_type": "markdown",
   "metadata": {},
   "source": [
    "# Project Euler 22\n",
    "---\n",
    "## Names Scores\n",
    "\n",
    "* [Link](https://projecteuler.net/problem=22)\n",
    "* Use the names.txt file. Sort the names into alphabetical order, then give them a score by summing the value of each letter and multiplying by the position of the name in the sorted list"
   ]
  },
  {
   "cell_type": "code",
   "execution_count": 1,
   "metadata": {},
   "outputs": [],
   "source": [
    "# On the off chance that someone ever looks at this, you will need to point the path to whereever you've saved the file\n",
    "with open('/Users/chrisjohnson/Downloads/0022_names.txt') as names:\n",
    "    file = names.read()"
   ]
  },
  {
   "cell_type": "code",
   "execution_count": 2,
   "metadata": {},
   "outputs": [
    {
     "data": {
      "text/plain": [
       "'COLIN'"
      ]
     },
     "execution_count": 2,
     "metadata": {},
     "output_type": "execute_result"
    }
   ],
   "source": [
    "name_list = []\n",
    "for name in file.split(','):\n",
    "    name_list.append(name.strip('\\\"'))\n",
    "name_list = sorted(name_list)\n",
    "name_list[937]"
   ]
  },
  {
   "cell_type": "code",
   "execution_count": 3,
   "metadata": {},
   "outputs": [
    {
     "name": "stdout",
     "output_type": "stream",
     "text": [
      "C 3\n",
      "O 15\n",
      "L 12\n",
      "I 9\n",
      "N 14\n"
     ]
    }
   ],
   "source": [
    "# okay, according to prompt 'COLIN' is 938th in file, so all good so far\n",
    "# easiest way to convert letters to numbers is to use ASCII: https://www.ascii-code.com/\n",
    "# for upper case letters, subtract 64 to get actual value\n",
    "# for example:\n",
    "for char in name_list[937]:\n",
    "    print(char, ord(char)-64)"
   ]
  },
  {
   "cell_type": "code",
   "execution_count": 4,
   "metadata": {},
   "outputs": [
    {
     "data": {
      "text/plain": [
       "871198282"
      ]
     },
     "execution_count": 4,
     "metadata": {},
     "output_type": "execute_result"
    }
   ],
   "source": [
    "name_scores = []\n",
    "for position, name in enumerate(name_list, 1): # start at 1 just to make calculation easier\n",
    "    name_sum = 0\n",
    "    for char in name:\n",
    "        name_sum = name_sum + ord(char) - 64\n",
    "    name_scores.append(name_sum * (position))\n",
    "sum(name_scores)"
   ]
  },
  {
   "cell_type": "code",
   "execution_count": null,
   "metadata": {},
   "outputs": [],
   "source": []
  }
 ],
 "metadata": {
  "kernelspec": {
   "display_name": "Python 3",
   "language": "python",
   "name": "python3"
  },
  "language_info": {
   "codemirror_mode": {
    "name": "ipython",
    "version": 3
   },
   "file_extension": ".py",
   "mimetype": "text/x-python",
   "name": "python",
   "nbconvert_exporter": "python",
   "pygments_lexer": "ipython3",
   "version": "3.9.6"
  }
 },
 "nbformat": 4,
 "nbformat_minor": 2
}
