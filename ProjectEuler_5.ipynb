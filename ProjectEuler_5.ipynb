{
 "cells": [
  {
   "cell_type": "code",
   "execution_count": null,
   "id": "bb838586",
   "metadata": {},
   "outputs": [],
   "source": [
    "# what is the smallest positive number that is divisible by all the numbers from 1 to 20"
   ]
  },
  {
   "cell_type": "code",
   "execution_count": null,
   "id": "d00347f8",
   "metadata": {},
   "outputs": [],
   "source": [
    "# we can use the handy prime factors function I made back in problem 3!"
   ]
  },
  {
   "cell_type": "code",
   "execution_count": 1,
   "id": "bc31226f",
   "metadata": {},
   "outputs": [],
   "source": [
    "from ProjectEuler_3_factors_function import factors"
   ]
  },
  {
   "cell_type": "code",
   "execution_count": 7,
   "id": "1daa9008",
   "metadata": {},
   "outputs": [
    {
     "name": "stdout",
     "output_type": "stream",
     "text": [
      "[1.0]\n",
      "[2]\n",
      "[3.0]\n",
      "[2, 2]\n",
      "[5.0]\n",
      "[2, 3.0]\n",
      "[7.0]\n",
      "[2, 2, 2]\n",
      "[3.0, 3.0]\n",
      "[2, 5.0]\n",
      "[11.0]\n",
      "[2, 2, 3.0]\n",
      "[13.0]\n",
      "[2, 7.0]\n",
      "[3.0, 5.0]\n",
      "[2, 2, 2, 2]\n",
      "[17.0]\n",
      "[2, 3.0, 3.0]\n",
      "[19.0]\n",
      "[2, 2, 5.0]\n"
     ]
    }
   ],
   "source": [
    "for n in range(2,21):\n",
    "    print(factors(n)[1])"
   ]
  },
  {
   "cell_type": "code",
   "execution_count": 9,
   "id": "9a908c5e",
   "metadata": {},
   "outputs": [],
   "source": [
    "# by inspection, the lowest common multiple is equal to:\n",
    "x = (2**4)*(3**2)*5*7*11*13*17*19"
   ]
  },
  {
   "cell_type": "code",
   "execution_count": 11,
   "id": "9860b487",
   "metadata": {},
   "outputs": [
    {
     "name": "stdout",
     "output_type": "stream",
     "text": [
      "232792560.0\n",
      "116396280.0\n",
      "77597520.0\n",
      "58198140.0\n",
      "46558512.0\n",
      "38798760.0\n",
      "33256080.0\n",
      "29099070.0\n",
      "25865840.0\n",
      "23279256.0\n",
      "21162960.0\n",
      "19399380.0\n",
      "17907120.0\n",
      "16628040.0\n",
      "15519504.0\n",
      "14549535.0\n",
      "13693680.0\n",
      "12932920.0\n",
      "12252240.0\n",
      "11639628.0\n"
     ]
    }
   ],
   "source": [
    "# confirmation\n",
    "for n in range(1, 21):\n",
    "    print(x/n)"
   ]
  }
 ],
 "metadata": {
  "kernelspec": {
   "display_name": "Python 3 (ipykernel)",
   "language": "python",
   "name": "python3"
  },
  "language_info": {
   "codemirror_mode": {
    "name": "ipython",
    "version": 3
   },
   "file_extension": ".py",
   "mimetype": "text/x-python",
   "name": "python",
   "nbconvert_exporter": "python",
   "pygments_lexer": "ipython3",
   "version": "3.9.7"
  }
 },
 "nbformat": 4,
 "nbformat_minor": 5
}
