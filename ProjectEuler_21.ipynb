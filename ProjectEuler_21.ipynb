{
 "cells": [
  {
   "cell_type": "markdown",
   "metadata": {},
   "source": [
    "# Project Euler 21\n",
    "---\n",
    "## Amicable Numbers\n",
    "\n",
    "* [Link](https://projecteuler.net/problem=21)\n",
    "* Let d(n) be the sum of the divisors of n.\n",
    "* If $ d(a) = b \\, \\& \\, d(b) = a, $ we call $a \\, \\& \\, b$ an *amicable pair* of *amicable numbers*.\n",
    "* Find the sum of all amicable numbers $<10000$"
   ]
  },
  {
   "cell_type": "code",
   "execution_count": 1,
   "metadata": {},
   "outputs": [],
   "source": [
    "from ProjectEuler_3_factors_function import factors"
   ]
  },
  {
   "cell_type": "code",
   "execution_count": 2,
   "metadata": {},
   "outputs": [],
   "source": [
    "amicable_numbers = []\n",
    "divisor_sum_lookup = {}\n",
    "def divisors_func(n: int) -> int:\n",
    "    if n not in divisor_sum_lookup:\n",
    "        sum_of_divisors = sum(factors(n)[0][:-1])\n",
    "        divisor_sum_lookup[n] = sum_of_divisors\n",
    "        return sum_of_divisors\n",
    "    else:\n",
    "        return divisor_sum_lookup[n]"
   ]
  },
  {
   "cell_type": "code",
   "execution_count": 3,
   "metadata": {},
   "outputs": [
    {
     "name": "stdout",
     "output_type": "stream",
     "text": [
      "1000\n",
      "2000\n",
      "3000\n",
      "4000\n",
      "5000\n",
      "6000\n",
      "7000\n",
      "8000\n",
      "9000\n",
      "10000\n"
     ]
    }
   ],
   "source": [
    "n = 1\n",
    "while n < 10000:\n",
    "    m = divisors_func(n)\n",
    "    if m in divisor_sum_lookup and divisors_func(m) == n:\n",
    "        if m != n:\n",
    "            amicable_numbers.append([n,divisors_func(n)])\n",
    "    n += 1\n",
    "    if n % 1000 == 0:\n",
    "        print(n)"
   ]
  },
  {
   "cell_type": "code",
   "execution_count": 5,
   "metadata": {},
   "outputs": [
    {
     "data": {
      "text/plain": [
       "31626.0"
      ]
     },
     "execution_count": 5,
     "metadata": {},
     "output_type": "execute_result"
    }
   ],
   "source": [
    "sum([sum(sublist) for sublist in amicable_numbers])\n",
    "# This is not a quick solution, but it works. Previous cell takes 90 seconds for me"
   ]
  },
  {
   "cell_type": "code",
   "execution_count": null,
   "metadata": {},
   "outputs": [],
   "source": []
  }
 ],
 "metadata": {
  "kernelspec": {
   "display_name": "Python 3",
   "language": "python",
   "name": "python3"
  },
  "language_info": {
   "codemirror_mode": {
    "name": "ipython",
    "version": 3
   },
   "file_extension": ".py",
   "mimetype": "text/x-python",
   "name": "python",
   "nbconvert_exporter": "python",
   "pygments_lexer": "ipython3",
   "version": "3.9.6"
  }
 },
 "nbformat": 4,
 "nbformat_minor": 2
}
